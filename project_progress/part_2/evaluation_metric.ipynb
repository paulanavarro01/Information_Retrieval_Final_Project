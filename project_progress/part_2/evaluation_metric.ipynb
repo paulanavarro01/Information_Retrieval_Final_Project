{
 "cells": [
  {
   "cell_type": "markdown",
   "id": "05e5bfb3",
   "metadata": {},
   "source": [
    "EVALUATION METRICS"
   ]
  },
  {
   "cell_type": "code",
   "execution_count": 1,
   "id": "9271529d",
   "metadata": {},
   "outputs": [],
   "source": [
    "import json\n",
    "import math\n",
    "import os\n",
    "import re\n",
    "import collections\n",
    "from collections import defaultdict\n",
    "from array import array\n",
    "import numpy as np\n",
    "import pandas as pd\n",
    "import sys"
   ]
  },
  {
   "cell_type": "code",
   "execution_count": 2,
   "id": "120aa3de",
   "metadata": {},
   "outputs": [],
   "source": [
    "def precision_k(y_true,y_score,k=10):\n",
    "    order=np.argsort(np.asarray(y_score))[::-1]\n",
    "    y_true= np.take(np.asarray(y_true),order)\n",
    "    k=min(k,len(y_true)) #handle if k> len(y_true)\n",
    "    return np.sum(y_true[:k])/k if k>0 else 0.0"
   ]
  },
  {
   "cell_type": "code",
   "execution_count": 3,
   "id": "d47ae626",
   "metadata": {},
   "outputs": [],
   "source": [
    "def average_precision(y_true,y_score,k=10):\n",
    "    order=np.argsort(y_score)[::-1]\n",
    "    y_true=np.take(np.asarray(y_true),order)\n",
    "    prec_list=[]\n",
    "    num_relevant=0\n",
    "    for i in range(min(k,len(order))):\n",
    "        if y_true[i]==1:\n",
    "            num_relevant +=1\n",
    "            prec_list.append(num_relevant/(i+1))\n",
    "    return np.sum(prec_list)/num_relevant if num_relevant>0 else 0.0"
   ]
  },
  {
   "cell_type": "code",
   "execution_count": 4,
   "id": "55678d71",
   "metadata": {},
   "outputs": [],
   "source": [
    "def recall_k(y_true,y_score,k=10):\n",
    "    order=np.argsort(np.asarray(y_score))[::-1]\n",
    "    y_true=np.take(np.asarray(y_true),order)\n",
    "    relevenat=np.sum(y_true[:k])\n",
    "    total_rel=np.sum(np.asarray(y_true))\n",
    "    return relevenat/total_rel if total_rel>0 else 0.0"
   ]
  },
  {
   "cell_type": "code",
   "execution_count": 5,
   "id": "13938fa4",
   "metadata": {},
   "outputs": [],
   "source": [
    "def f1_k(y_true,y_score,k=10):\n",
    "    prec=precision_k(y_true,y_score,k)\n",
    "    rec=recall_k(y_true,y_score,k)\n",
    "    return (2*prec*rec)/(prec+rec) if (prec+rec)>0 else 0.0"
   ]
  },
  {
   "cell_type": "code",
   "execution_count": null,
   "id": "78a85f06",
   "metadata": {},
   "outputs": [],
   "source": [
    "def map_k(dt,k):\n",
    "    avp = []\n",
    "    for q in dt[\"query_id\"].unique():  \n",
    "        curr_data = dt[dt[\"query_id\"] == q]  \n",
    "        avp.append(average_precision(np.array(curr_data[\"labels\"]), np.array(curr_data[\"predicted_relevance\"]),\n",
    "                                      k)) \n",
    "    return np.sum(avp) / len(avp), avp  "
   ]
  },
  {
   "cell_type": "code",
   "execution_count": null,
   "id": "64d3e2bc",
   "metadata": {},
   "outputs": [],
   "source": [
    "def rr_k(y_true,y_score,k=10):\n",
    "    order=np.argsort(np.asarray(y_score))[::-1]\n",
    "    y_true= np.take(np.asarray(y_true),order)[:k]\n",
    "    if np.sum(y_true)==0: \n",
    "        return 0\n",
    "    return 1/(np.argmax(y_true)+1)"
   ]
  },
  {
   "cell_type": "code",
   "execution_count": null,
   "id": "fb55b514",
   "metadata": {},
   "outputs": [],
   "source": [
    "def dcg_k(y_true,y_score,k=10):\n",
    "    order=np.argsort(y_score)[::-1]\n",
    "    y_true=np.take(y_true,order[:k])\n",
    "    gain= 2**y_true-1\n",
    "    discounts=np.log2(np.arange(len(y_true))+2) #+2 is added because log2(1) is 0\n",
    "    return np.sum(gain/discounts)"
   ]
  },
  {
   "cell_type": "code",
   "execution_count": null,
   "id": "2ba42de6",
   "metadata": {},
   "outputs": [],
   "source": [
    "def ndcg_k(y_true,y_score,k=10):\n",
    "    dcg= dcg_k(y_true,y_score,k)\n",
    "    idcg=dcg_k(y_true,y_true,k)\n",
    "    if not idcg:\n",
    "        return 0\n",
    "    return round(dcg/idcg,4)\n"
   ]
  }
 ],
 "metadata": {
  "kernelspec": {
   "display_name": "irwa_venv",
   "language": "python",
   "name": "python3"
  },
  "language_info": {
   "codemirror_mode": {
    "name": "ipython",
    "version": 3
   },
   "file_extension": ".py",
   "mimetype": "text/x-python",
   "name": "python",
   "nbconvert_exporter": "python",
   "pygments_lexer": "ipython3",
   "version": "3.13.1"
  }
 },
 "nbformat": 4,
 "nbformat_minor": 5
}
