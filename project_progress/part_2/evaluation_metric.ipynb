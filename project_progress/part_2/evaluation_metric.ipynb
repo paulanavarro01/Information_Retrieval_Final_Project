{
 "cells": [
  {
   "cell_type": "markdown",
   "id": "05e5bfb3",
   "metadata": {},
   "source": [
    "EVALUATION METRICS"
   ]
  },
  {
   "cell_type": "code",
   "execution_count": 1,
   "id": "9271529d",
   "metadata": {},
   "outputs": [
    {
     "name": "stderr",
     "output_type": "stream",
     "text": [
      "[nltk_data] Downloading package stopwords to\n",
      "[nltk_data]     C:\\Users\\xfa12\\AppData\\Roaming\\nltk_data...\n",
      "[nltk_data]   Package stopwords is already up-to-date!\n"
     ]
    }
   ],
   "source": [
    "import json\n",
    "import math\n",
    "import os\n",
    "import re\n",
    "import collections\n",
    "from collections import defaultdict\n",
    "from array import array\n",
    "import numpy as np\n",
    "import pandas as pd\n",
    "import sys\n",
    "\n",
    "project_root = os.path.abspath(os.path.join(os.getcwd(), \"..\"))  # one level up from part_2\n",
    "sys.path.append(project_root)\n",
    "from part_2.indexing_evaluation import load_processed_docs,create_index_tfidf,search_tf_idf"
   ]
  },
  {
   "cell_type": "code",
   "execution_count": 2,
   "id": "120aa3de",
   "metadata": {},
   "outputs": [],
   "source": [
    "def precision_k(y_true,y_score,k=10):\n",
    "    order=np.argsort(np.asarray(y_score))[::-1]\n",
    "    y_true= np.take(np.asarray(y_true),order)\n",
    "    k=min(k,len(y_true)) #handle if k> len(y_true)\n",
    "    return np.sum(y_true[:k])/k if k>0 else 0.0"
   ]
  },
  {
   "cell_type": "code",
   "execution_count": 3,
   "id": "55678d71",
   "metadata": {},
   "outputs": [],
   "source": [
    "def recall_k(y_true,y_score,k=10):\n",
    "    order=np.argsort(np.asarray(y_score))[::-1]\n",
    "    y_true=np.take(np.asarray(y_true),order)\n",
    "    relevenat=np.sum(y_true[:k])\n",
    "    total_rel=np.sum(np.asarray(y_true))\n",
    "    return relevenat/total_rel if total_rel>0 else 0.0"
   ]
  },
  {
   "cell_type": "code",
   "execution_count": 4,
   "id": "13938fa4",
   "metadata": {},
   "outputs": [],
   "source": [
    "def f1_k(y_true,y_score,k=10):\n",
    "    prec=precision_k(y_true,y_score,k)\n",
    "    rec=recall_k(y_true,y_score,k)\n",
    "    return (2*prec*rec)/(prec+rec) if (prec+rec)>0 else 0.0"
   ]
  },
  {
   "cell_type": "code",
   "execution_count": 5,
   "id": "d47ae626",
   "metadata": {},
   "outputs": [],
   "source": [
    "def average_precision(y_true,y_score,k=10):\n",
    "    order=np.argsort(y_score)[::-1]\n",
    "    y_true=np.take(np.asarray(y_true),order)\n",
    "    prec_list=[]\n",
    "    num_relevant=0\n",
    "    for i in range(min(k,len(order))):\n",
    "        if y_true[i]==1:\n",
    "            num_relevant +=1\n",
    "            prec_list.append(num_relevant/(i+1))\n",
    "    return np.sum(prec_list)/num_relevant if num_relevant>0 else 0.0"
   ]
  },
  {
   "cell_type": "code",
   "execution_count": 6,
   "id": "78a85f06",
   "metadata": {},
   "outputs": [],
   "source": [
    "def map_k(dt,k):\n",
    "    avp = []\n",
    "    for q in dt[\"query_id\"].unique():  \n",
    "        curr_data = dt[dt[\"query_id\"] == q] \n",
    "        y_true=curr_data[\"labels\"].values\n",
    "        y_score=curr_data[\"predicted_relevance\"].values\n",
    "        avp.append(average_precision(y_true,y_score,k)) \n",
    "    return np.sum(avp) / len(avp), avp  "
   ]
  },
  {
   "cell_type": "code",
   "execution_count": 7,
   "id": "64d3e2bc",
   "metadata": {},
   "outputs": [],
   "source": [
    "def rr_k(y_true,y_score,k=10):\n",
    "    order=np.argsort(np.asarray(y_score))[::-1]\n",
    "    y_true= np.take(np.asarray(y_true),order)[:k]\n",
    "    if np.sum(y_true)==0: \n",
    "        return 0\n",
    "    return 1/(np.argmax(y_true)+1)"
   ]
  },
  {
   "cell_type": "code",
   "execution_count": 8,
   "id": "fb55b514",
   "metadata": {},
   "outputs": [],
   "source": [
    "def dcg_k(y_true,y_score,k=10):\n",
    "    order=np.argsort(y_score)[::-1]\n",
    "    y_true=np.take(y_true,order[:k])\n",
    "    gain= 2**y_true-1\n",
    "    discounts=np.log2(np.arange(len(y_true))+2) #+2 is added because log2(1) is 0\n",
    "    return np.sum(gain/discounts)"
   ]
  },
  {
   "cell_type": "code",
   "execution_count": 9,
   "id": "2ba42de6",
   "metadata": {},
   "outputs": [],
   "source": [
    "def ndcg_k(y_true,y_score,k=10):\n",
    "    dcg= dcg_k(y_true,y_score,k)\n",
    "    idcg=dcg_k(y_true,y_true,k)\n",
    "    if not idcg:\n",
    "        return 0\n",
    "    return round(dcg/idcg,4)\n"
   ]
  },
  {
   "cell_type": "code",
   "execution_count": 12,
   "id": "947b8b12",
   "metadata": {},
   "outputs": [
    {
     "name": "stdout",
     "output_type": "stream",
     "text": [
      "   query_id  Precision@5  Recalln@5  AP@5   F1@5  MRR   NDCG\n",
      "0         1          1.0      0.385  1.00  0.556  1.0  1.000\n",
      "1         2          0.8      0.400  0.95  0.533  1.0  0.854\n",
      "MAP: 0.975\n"
     ]
    }
   ],
   "source": [
    "\n",
    "if __name__==\"__main__\":\n",
    "    base_dir=os.getcwd()\n",
    "    proc_doc_path = os.path.join(base_dir,'..', '..', 'data', 'processed_docs.jsonl')\n",
    "    validation_path = os.path.join(base_dir,'..', '..', 'data', 'validation_labels.csv')\n",
    "    docs=load_processed_docs(proc_doc_path)\n",
    "    \n",
    "    index,tf,df_counts,idf,title_index=create_index_tfidf(docs)\n",
    "    \n",
    "    validation_df=pd.read_csv(validation_path)\n",
    "\n",
    "    queries={1:\"women full sleeve sweatshirt cotton\",\n",
    "             2:\"men slim jeans blue\"}\n",
    "    \n",
    "    result=[]\n",
    "\n",
    "    validation_df[\"predicted_relevance\"]=0\n",
    "    for q, query in queries.items():\n",
    "        retrieve_pid=search_tf_idf(query,index,tf,idf,title_index)\n",
    "        rank_score = {pid: len(retrieve_pid) - i for i, pid in enumerate(retrieve_pid)}\n",
    "        validation_df.loc[validation_df[\"query_id\"] == q, \"predicted_relevance\"] = validation_df.loc[validation_df[\"query_id\"] == q, \"pid\"].apply(lambda pid: rank_score.get(pid, 0))\n",
    "\n",
    "    for i in queries.keys():\n",
    "        query_doc=validation_df[validation_df[\"query_id\"]==i]\n",
    "        y_true=query_doc[\"labels\"].values\n",
    "        y_score=query_doc[\"predicted_relevance\"].values\n",
    "\n",
    "        result.append({\n",
    "            \"query_id\":i,\n",
    "            \"Precision@5\": round(precision_k(y_true,y_score,5),3),\n",
    "            \"Recalln@5\": round(recall_k(y_true,y_score,5),3),\n",
    "            \"AP@5\": round(average_precision(y_true,y_score,5),3),\n",
    "            \"F1@5\": round(f1_k(y_true,y_score,5),3),\n",
    "            \"MRR\": round(rr_k(y_true,y_score,5),3),\n",
    "            \"NDCG\": round(ndcg_k(y_true,y_score,5),3),\n",
    "        })\n",
    "    results_df=pd.DataFrame(result)\n",
    "    print(results_df)\n",
    "\n",
    "    mean_avp,avp_list=map_k(validation_df,k=5)\n",
    "    print(\"MAP:\",round(mean_avp,3))  \n",
    " "
   ]
  },
  {
   "cell_type": "code",
   "execution_count": null,
   "id": "1214077f-751e-43a0-98c8-118ed74885ad",
   "metadata": {},
   "outputs": [],
   "source": []
  }
 ],
 "metadata": {
  "kernelspec": {
   "display_name": "irwa_venv",
   "language": "python",
   "name": "python3"
  },
  "language_info": {
   "codemirror_mode": {
    "name": "ipython",
    "version": 3
   },
   "file_extension": ".py",
   "mimetype": "text/x-python",
   "name": "python",
   "nbconvert_exporter": "python",
   "pygments_lexer": "ipython3",
   "version": "3.13.1"
  }
 },
 "nbformat": 4,
 "nbformat_minor": 5
}
